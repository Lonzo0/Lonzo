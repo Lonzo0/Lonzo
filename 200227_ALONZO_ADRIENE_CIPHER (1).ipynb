{
 "cells": [
  {
   "cell_type": "code",
   "execution_count": 11,
   "id": "82110eba",
   "metadata": {},
   "outputs": [
    {
     "name": "stdout",
     "output_type": "stream",
     "text": [
      "VXGPTOGRTHOGZOPGRVTOPGRTHOGTIWOPRBTZOGVRPTOGRT\n",
      "CUQCEHU\n"
     ]
    }
   ],
   "source": [
    "def problem_1(message, shift):\n",
    "    new_message = \"\"\n",
    "    \n",
    "    for c in message:\n",
    "        if c.isupper:\n",
    "            c_index = ord(c)-ord(\"A\")\n",
    "            new_index = (c_index + shift) % 26\n",
    "            new_unicode = new_index + ord(\"A\")\n",
    "            new_character= chr(new_unicode)\n",
    "            new_message += new_character\n",
    "        else:\n",
    "            new_message += c\n",
    "    return new_message\n",
    "        \n",
    "print(problem_1('HJSBFASDF ASLABSDHFABSDF ASFUIABDNFLASHDBFASDF', 1000000))\n",
    "print(problem_1(\"MEAMORE\", 42))"
   ]
  },
  {
   "cell_type": "code",
   "execution_count": 38,
   "id": "8c397afb",
   "metadata": {},
   "outputs": [
    {
     "name": "stdout",
     "output_type": "stream",
     "text": [
      "IMNNA_FTAOIGROE\n",
      "IRIANMOGFANEOT__\n",
      "AOTSRIOALRH_EMRNGIMA_PTT\n"
     ]
    }
   ],
   "source": [
    "def problem_2(message_2, shift_2):\n",
    "    new_message_2=\"\"\n",
    "    \n",
    "    while len(message_2) % shift_2 !=0:\n",
    "        message_2 += \"_\"\n",
    "        continue\n",
    "        \n",
    "    for i in range(len(message_2)):\n",
    "        new_text = (i // shift_2) + (len(message_2) // shift_2) * (i % shift_2)\n",
    "        new_message_2 += message_2[new_text]\n",
    "\n",
    "    return new_message_2\n",
    "\n",
    "print(problem_2(\"INFORMATION_AGE\", 3))\n",
    "print(problem_2(\"INFORMATION_AGE\", 4))\n",
    "print(problem_2(\"ALGORITHMS_ARE_IMPORTANT\", 8))"
   ]
  },
  {
   "cell_type": "code",
   "execution_count": 39,
   "id": "19d7e60c",
   "metadata": {},
   "outputs": [
    {
     "name": "stdout",
     "output_type": "stream",
     "text": [
      "HMNOSMM\n",
      "GINABL HT ETCUQ\n"
     ]
    }
   ],
   "source": [
    "def problem_3(message_3, key):\n",
    "    new_message_3 = \"\"\n",
    "\n",
    "    while len(message_3) != len(key):\n",
    "        for i in range(0, len(key)):\n",
    "            if len(message_3) != len(key):\n",
    "                key += key[i]\n",
    "            else:\n",
    "                break\n",
    "                \n",
    "    for j in range(len(message_3)):\n",
    "        if message_3[j] == ' ':\n",
    "            text = ' '\n",
    "        elif ord(message_3[j]) - 65 + ord(key[j]) - 65 <=25:\n",
    "            text = chr(ord(message_3[j]) + ord(key[j]) - 65)\n",
    "        elif ord(message_3[j]) - 65 + ord(key[j]) - 65 > 25:\n",
    "            text = chr(ord(message_3[j]) + ord(key[j]) - 65 - 26)\n",
    "        new_message_3 = new_message_3 + text\n",
    "    \n",
    "    return new_message_3\n",
    "\n",
    "print(problem_3(\"MEAMORE\", \"VINCE\"))\n",
    "print(problem_3(\"FOOBAR IS FUBAR\", \"BUZZ\"))"
   ]
  },
  {
   "cell_type": "code",
   "execution_count": 40,
   "id": "98b30e82",
   "metadata": {},
   "outputs": [
    {
     "name": "stdout",
     "output_type": "stream",
     "text": [
      "INFORMATION_AGE_\n",
      "ALGORITHMS_ARE_IMPORTANT\n",
      "INFORMATION_AGE_\n"
     ]
    }
   ],
   "source": [
    "def problem_4(message_4, shift_4):\n",
    "    new_message_4 = \"\"\n",
    "    x = 0\n",
    "\n",
    "    while x < len(message_4):\n",
    "        y = len(message_4) / shift_4\n",
    "        new_message_4 = new_message_4 + message_4[int(x // y) + int(shift_4 * (x % y))]\n",
    "        x = x + 1\n",
    "    return new_message_4\n",
    "\n",
    "print(problem_4(\"IRIANMOGFANEOT__\", 4))\n",
    "print(problem_4(\"AOTSRIOALRH_EMRNGIMA_PTT\", 8))\n",
    "print(problem_4(\"IRIANMOGFANEOT__\", 4))"
   ]
  },
  {
   "cell_type": "code",
   "execution_count": null,
   "id": "f083a955",
   "metadata": {},
   "outputs": [],
   "source": []
  }
 ],
 "metadata": {
  "kernelspec": {
   "display_name": "Python 3",
   "language": "python",
   "name": "python3"
  },
  "language_info": {
   "codemirror_mode": {
    "name": "ipython",
    "version": 3
   },
   "file_extension": ".py",
   "mimetype": "text/x-python",
   "name": "python",
   "nbconvert_exporter": "python",
   "pygments_lexer": "ipython3",
   "version": "3.8.8"
  }
 },
 "nbformat": 4,
 "nbformat_minor": 5
}
