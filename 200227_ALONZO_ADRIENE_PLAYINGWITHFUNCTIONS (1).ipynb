{
 "cells": [
  {
   "cell_type": "code",
   "execution_count": 3,
   "id": "047f75fa",
   "metadata": {},
   "outputs": [
    {
     "name": "stdout",
     "output_type": "stream",
     "text": [
      "120\n",
      "3628800\n"
     ]
    }
   ],
   "source": [
    "# The factorial of a number is the product of that number and all the numbers below it. \n",
    "# For example, 5 factorial (denoted 5! in math) is 5 4 3 2 1, which is 120.\n",
    "# Write a function called problem_1 that takes one positional argument number. \n",
    "# The function should return the factorial of number as an integer.\n",
    "# Example input/output:\n",
    "# problem_1(5) => 120\n",
    "# problem_1(10) => 3628800\n",
    "\n",
    "def problem_1(n):\n",
    "    fact = 1\n",
    "    for num in range(2, n + 1):\n",
    "        fact *= num\n",
    "    return fact\n",
    "\n",
    "print(problem_1(5))\n",
    "print(problem_1(10))"
   ]
  },
  {
   "cell_type": "code",
   "execution_count": 4,
   "id": "0f196c53",
   "metadata": {},
   "outputs": [
    {
     "name": "stdout",
     "output_type": "stream",
     "text": [
      "Enter the passphrase: qwerty\n",
      "1\n"
     ]
    }
   ],
   "source": [
    "# Write a function called problem_2 that takes one positional argument passphrase. \n",
    "# The function should ask the user to enter the passphrase with input(). If the user enters the correct passphrase, the function should return the integer 1. If the user enters the wrong passphrase, the function should keep asking them for the passphrase. If the user gets the passphrase wrong 3 times, the function should return the integer 0.\n",
    "# Example input/output:\n",
    "# Function input:\n",
    "# problem_2(\"chums\")\n",
    "# Simulated user input: joben, chums\n",
    "# Output# 1\n",
    "# Function input: \n",
    "# problem_2(\"annika\")\n",
    "# Simulated user input: joe, earl, niks\n",
    "# Output:0\n",
    "\n",
    "def problem_2(qwerty): \n",
    "       \n",
    "    attempts = 0 \n",
    "\n",
    "    while attempts <= 3:\n",
    "        user_input = input(\"Enter the passphrase: \")\n",
    "        attempts += 1\n",
    "\n",
    "        if qwerty == user_input: \n",
    "            print(\"1\") \n",
    "            break\n",
    "\n",
    "        elif attempts == 3: \n",
    "            print (\"0\")\n",
    "            break\n",
    "            \n",
    "problem_2(\"qwerty\")"
   ]
  },
  {
   "cell_type": "code",
   "execution_count": 5,
   "id": "b34ff1fa",
   "metadata": {},
   "outputs": [
    {
     "name": "stdout",
     "output_type": "stream",
     "text": [
      "1P:1/25C:0/10C:0/5C:1/1C:0\n",
      "1P:0/25C:2/10C:1/5C:1/1C:4\n"
     ]
    }
   ],
   "source": [
    "# Write a function called problem_4 that takes 1 positional argument amount in centavos. \n",
    "# The function should return a string that describes the appropriate amounts of each type of coin to give to the customer. \n",
    "# The string should be formatted as follows: \"1P:{num}/25C:{num}/10C:{num}/5C:{num}/1C:{num}\"\n",
    "# Use the fewest number of total coins possible.\n",
    "# Example input/output:\n",
    "# problem_4(105) => \"1P:1/25C:0/10C:0/5C:1/1C:0\"\n",
    "# problem_4(69) => \"1P:0/25C:2/10C:1/5C:1/1C:4\"\n",
    "\n",
    "def problem_4(change): \n",
    "\n",
    "    piso = change // 100\n",
    "    change = change % 100 \n",
    "\n",
    "    twentyfive_c = change // 25\n",
    "    change = change % 25\n",
    "\n",
    "    ten_c = change // 10 \n",
    "    change = change % 10 \n",
    "\n",
    "    five_c = change // 5 \n",
    "    change = change % 5\n",
    "\n",
    "    one_c = change // 1 \n",
    "    change = change % 1 \n",
    "    \n",
    "    return(f\"1P:{piso}/25C:{twentyfive_c}/10C:{ten_c}/5C:{five_c}/1C:{one_c}\")\n",
    "    \n",
    "print(problem_4(105))\n",
    "print(problem_4(69))"
   ]
  },
  {
   "cell_type": "code",
   "execution_count": 6,
   "id": "05a51a7d",
   "metadata": {},
   "outputs": [
    {
     "name": "stdout",
     "output_type": "stream",
     "text": [
      "tEST mE\n",
      "ASsIgNMenT\n"
     ]
    }
   ],
   "source": [
    "# Write a function called problem_5 that takes 1 positional argument (string) message. \n",
    "# The function should return a string whose uppercase letters are now lowercase and whose lowercase letters are now uppercase. Spaces should be left alone.\n",
    "# Example input/output:\n",
    "# problem_5(\"Test Me\") => \"tEST mE\"\n",
    "# problem_5(\"asSiGnmENt\") => \"ASsIgNMenT\"\n",
    "\n",
    "def problem_5(word): \n",
    "    return (word.swapcase())\n",
    "\n",
    "print(problem_5(\"Test Me\"))\n",
    "print(problem_5(\"asSiGnmENt\"))"
   ]
  },
  {
   "cell_type": "code",
   "execution_count": 7,
   "id": "df0c0b20",
   "metadata": {},
   "outputs": [
    {
     "name": "stdout",
     "output_type": "stream",
     "text": [
      "305.3722222222222\n"
     ]
    }
   ],
   "source": [
    "# Write a function called problem_3 that takes three positional arguments: \n",
    "# (float) temp, (string) original_format, (string) new_format. \n",
    "# The function should convert temp, which is represented in original_format, to its equivalent value in the new_format.\n",
    "# Example input/output:\n",
    "# problem_3(0.0, \"Celsius\", \"Fahrenheit\") => 32.0\n",
    "# problem_3(500.0, \"Kelvin\", \"Fahrenheit\") => 440.33\n",
    "# problem_3(273.0, \"Kelvin\", \"Celsius\") => 0.0\n",
    "\n",
    "def problem_3(temp, original_format, new_format):\n",
    "    if original_format.upper() == \"C\" and new_format.upper() == \"F\":\n",
    "        c_to_f = float((9*temp)/ 5 + 32 )\n",
    "        print(c_to_f)\n",
    "\n",
    "    elif original_format.upper() == \"C\" and new_format.upper() == \"K\":\n",
    "        c_to_k = float(temp + 273.15)\n",
    "        print(c_to_k)\n",
    "\n",
    "    elif original_format.upper() == \"F\" and new_format.upper() == \"C\":\n",
    "        f_to_c = float((temp - 32) * 5 / 9)\n",
    "        print(f_to_c)\n",
    "\n",
    "    elif original_format.upper() == \"F\" and new_format.upper() == \"K\":\n",
    "        f_to_k = float((temp - 32 ) * 5 / 9 + 273.15)\n",
    "        print(f_to_k)\n",
    "\n",
    "    elif original_format.upper() == \"K\" and new_format.upper() == \"C\":\n",
    "        k_to_c = float (temp - 273.15)\n",
    "        print(k_to_c)\n",
    "\n",
    "    elif original_format.upper() == \"K\" and new_format.upper() == \"F\":\n",
    "        k_to_f = float((temp - 273.15)* 9 / 5 + 32 )\n",
    "        print(k_to_f)\n",
    "\n",
    "\n",
    "problem_3(90, 'f', 'k')"
   ]
  }
 ],
 "metadata": {
  "kernelspec": {
   "display_name": "Python 3",
   "language": "python",
   "name": "python3"
  },
  "language_info": {
   "codemirror_mode": {
    "name": "ipython",
    "version": 3
   },
   "file_extension": ".py",
   "mimetype": "text/x-python",
   "name": "python",
   "nbconvert_exporter": "python",
   "pygments_lexer": "ipython3",
   "version": "3.8.8"
  }
 },
 "nbformat": 4,
 "nbformat_minor": 5
}
